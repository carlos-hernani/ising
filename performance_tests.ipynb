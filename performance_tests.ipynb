{
 "cells": [
  {
   "cell_type": "code",
   "execution_count": 1,
   "metadata": {},
   "outputs": [],
   "source": [
    "from ising3_10 import Lattice, Ising\n",
    "import numpy as np"
   ]
  },
  {
   "cell_type": "code",
   "execution_count": 2,
   "metadata": {},
   "outputs": [],
   "source": [
    "i = Ising(lattice=Lattice(6,random_state=1))"
   ]
  },
  {
   "cell_type": "code",
   "execution_count": 3,
   "metadata": {},
   "outputs": [
    {
     "data": {
      "text/plain": [
       "array([[ 1,  1, -1,  1, -1, -1],\n",
       "       [ 1, -1,  1, -1,  1,  1],\n",
       "       [-1,  1, -1, -1, -1, -1],\n",
       "       [-1, -1,  1, -1, -1,  1],\n",
       "       [ 1,  1,  1, -1, -1,  1],\n",
       "       [ 1, -1,  1,  1,  1,  1]])"
      ]
     },
     "execution_count": 3,
     "metadata": {},
     "output_type": "execute_result"
    }
   ],
   "source": [
    "i.lattice.grid"
   ]
  },
  {
   "cell_type": "code",
   "execution_count": 4,
   "metadata": {},
   "outputs": [
    {
     "data": {
      "text/plain": [
       "array([[ 1,  1, -1,  1, -1, -1],\n",
       "       [ 1, -1,  1, -1,  1,  1],\n",
       "       [-1,  1, -1,  1, -1, -1],\n",
       "       [-1, -1,  1, -1, -1,  1],\n",
       "       [ 1,  1,  1,  1, -1,  1],\n",
       "       [ 1, -1,  1,  1,  1,  1]])"
      ]
     },
     "execution_count": 4,
     "metadata": {},
     "output_type": "execute_result"
    }
   ],
   "source": [
    "list_of_spins = [(1,1), (2,3), (4,3)]\n",
    "i.update_grid(list_of_spins)\n",
    "i.lattice.grid"
   ]
  },
  {
   "cell_type": "code",
   "execution_count": 11,
   "metadata": {},
   "outputs": [
    {
     "data": {
      "text/plain": [
       "3.0"
      ]
     },
     "execution_count": 11,
     "metadata": {},
     "output_type": "execute_result"
    }
   ],
   "source": [
    "index_flip = 0.25*i.lattice.grid[1,1]*4 + 2\n",
    "index_flip"
   ]
  },
  {
   "cell_type": "code",
   "execution_count": 9,
   "metadata": {},
   "outputs": [
    {
     "data": {
      "text/plain": [
       "1.381e-16"
      ]
     },
     "execution_count": 9,
     "metadata": {},
     "output_type": "execute_result"
    }
   ],
   "source": [
    "k = 1.381e-16 # eV/K\n",
    "k"
   ]
  },
  {
   "cell_type": "code",
   "execution_count": 10,
   "metadata": {},
   "outputs": [
    {
     "data": {
      "text/plain": [
       "28396586730275.023"
      ]
     },
     "execution_count": 10,
     "metadata": {},
     "output_type": "execute_result"
    }
   ],
   "source": [
    "1/(i.temp*k)"
   ]
  },
  {
   "cell_type": "code",
   "execution_count": 11,
   "metadata": {},
   "outputs": [
    {
     "data": {
      "text/plain": [
       "0.0"
      ]
     },
     "execution_count": 11,
     "metadata": {},
     "output_type": "execute_result"
    }
   ],
   "source": [
    "np.exp(-8/(i.temp*k))"
   ]
  },
  {
   "cell_type": "code",
   "execution_count": 5,
   "metadata": {},
   "outputs": [
    {
     "data": {
      "text/plain": [
       "(True, True, True, 8.74175144307033e-80, 7.641821829242221e-159)"
      ]
     },
     "execution_count": 5,
     "metadata": {},
     "output_type": "execute_result"
    }
   ],
   "source": [
    "i.flip"
   ]
  },
  {
   "cell_type": "code",
   "execution_count": 10,
   "metadata": {},
   "outputs": [
    {
     "name": "stdout",
     "output_type": "stream",
     "text": [
      "(array([-8, -4,  0,  4,  8]), array([ 2, 14, 12,  6,  2]))\n",
      "(array([-8, -4,  0,  4,  8]), array([ 1, 10, 10, 10,  5]))\n",
      "(array([-8, -4,  0,  4,  8]), array([ 2, 14, 12,  6,  2]))\n",
      "(array([-8, -4,  0,  4]), array([ 1,  9, 15, 11]))\n",
      "(array([-8, -4,  0,  4,  8]), array([ 2, 15,  7,  9,  3]))\n",
      "(array([-8, -4,  0,  4,  8]), array([ 1,  8, 13, 10,  4]))\n",
      "(array([-8, -4,  0,  4,  8]), array([ 3, 10,  8, 14,  1]))\n",
      "(array([-8, -4,  0,  4,  8]), array([ 1,  7, 16, 11,  1]))\n",
      "(array([-8, -4,  0,  4,  8]), array([ 2, 16, 10,  4,  4]))\n",
      "(array([-8, -4,  0,  4,  8]), array([ 2,  6, 13, 12,  3]))\n",
      "(array([-8, -4,  0,  4,  8]), array([ 1,  5, 18,  9,  3]))\n",
      "(array([-8, -4,  0,  4,  8]), array([ 1, 10, 14, 10,  1]))\n",
      "(array([-8, -4,  0,  4]), array([ 4,  4, 20,  8]))\n",
      "(array([-8, -4,  0,  4,  8]), array([ 1, 10, 14, 10,  1]))\n",
      "(array([-8, -4,  0,  4,  8]), array([ 4,  8, 15,  6,  3]))\n"
     ]
    }
   ],
   "source": [
    "for s in range(15):\n",
    "    i = Ising(lattice=Lattice(6,random_state=s))\n",
    "    des = []\n",
    "    for r in range(i.lattice.size):\n",
    "        for j in range(i.lattice.size):\n",
    "            des.append(i.get_flip(i.lattice, i.temp, i.inter, r,j))\n",
    "    \n"
   ]
  },
  {
   "cell_type": "code",
   "execution_count": null,
   "metadata": {},
   "outputs": [],
   "source": []
  },
  {
   "cell_type": "code",
   "execution_count": 9,
   "metadata": {},
   "outputs": [
    {
     "data": {
      "text/plain": [
       "(array([-8, -4,  0,  4,  8]), array([ 1, 10, 10, 10,  5]))"
      ]
     },
     "execution_count": 9,
     "metadata": {},
     "output_type": "execute_result"
    }
   ],
   "source": [
    "np.unique(des, return_counts=True)"
   ]
  },
  {
   "cell_type": "code",
   "execution_count": 12,
   "metadata": {},
   "outputs": [
    {
     "data": {
      "text/plain": [
       "0.5118216247002567"
      ]
     },
     "execution_count": 12,
     "metadata": {},
     "output_type": "execute_result"
    }
   ],
   "source": [
    "rng = np.random.default_rng(1)\n",
    "rng.random()"
   ]
  },
  {
   "cell_type": "code",
   "execution_count": 5,
   "metadata": {},
   "outputs": [
    {
     "name": "stdout",
     "output_type": "stream",
     "text": [
      "nope\n",
      "yep\n"
     ]
    },
    {
     "ename": "AssertionError",
     "evalue": "Values of spin must be +1 or -1 .",
     "output_type": "error",
     "traceback": [
      "\u001b[0;31m---------------------------------------------------------------------------\u001b[0m",
      "\u001b[0;31mAssertionError\u001b[0m                            Traceback (most recent call last)",
      "\u001b[0;32m/var/folders/w6/9n15lyxs6r58r0ld7jlcyskr0000gp/T/ipykernel_24125/2679271592.py\u001b[0m in \u001b[0;36m<module>\u001b[0;34m\u001b[0m\n\u001b[1;32m      1\u001b[0m \u001b[0;32mtry\u001b[0m\u001b[0;34m:\u001b[0m\u001b[0;34m\u001b[0m\u001b[0;34m\u001b[0m\u001b[0m\n\u001b[1;32m      2\u001b[0m     \u001b[0mprint\u001b[0m\u001b[0;34m(\u001b[0m\u001b[0;34m\"nope\"\u001b[0m\u001b[0;34m)\u001b[0m\u001b[0;34m\u001b[0m\u001b[0;34m\u001b[0m\u001b[0m\n\u001b[0;32m----> 3\u001b[0;31m     \u001b[0ml\u001b[0m \u001b[0;34m=\u001b[0m \u001b[0mLattice\u001b[0m\u001b[0;34m(\u001b[0m\u001b[0msize\u001b[0m \u001b[0;34m=\u001b[0m \u001b[0;36m3\u001b[0m\u001b[0;34m,\u001b[0m \u001b[0mgrid\u001b[0m\u001b[0;34m=\u001b[0m\u001b[0mnp\u001b[0m\u001b[0;34m.\u001b[0m\u001b[0marray\u001b[0m\u001b[0;34m(\u001b[0m\u001b[0;36m2\u001b[0m\u001b[0;34m)\u001b[0m\u001b[0;34m)\u001b[0m\u001b[0;34m\u001b[0m\u001b[0;34m\u001b[0m\u001b[0m\n\u001b[0m\u001b[1;32m      4\u001b[0m \u001b[0;32mfinally\u001b[0m\u001b[0;34m:\u001b[0m\u001b[0;34m\u001b[0m\u001b[0;34m\u001b[0m\u001b[0m\n\u001b[1;32m      5\u001b[0m     \u001b[0mprint\u001b[0m\u001b[0;34m(\u001b[0m\u001b[0;34m\"yep\"\u001b[0m\u001b[0;34m)\u001b[0m\u001b[0;34m\u001b[0m\u001b[0;34m\u001b[0m\u001b[0m\n",
      "\u001b[0;32m~/Documents/GitHub/ising/ising3_10.py\u001b[0m in \u001b[0;36m__init__\u001b[0;34m(self, size, grid, random_state)\u001b[0m\n",
      "\u001b[0;32m~/Documents/GitHub/ising/ising3_10.py\u001b[0m in \u001b[0;36m__post_init__\u001b[0;34m(self)\u001b[0m\n\u001b[1;32m     51\u001b[0m             \u001b[0mself\u001b[0m\u001b[0;34m.\u001b[0m\u001b[0mgenerate_grid\u001b[0m\u001b[0;34m(\u001b[0m\u001b[0;34m)\u001b[0m\u001b[0;34m\u001b[0m\u001b[0;34m\u001b[0m\u001b[0m\n\u001b[1;32m     52\u001b[0m         \u001b[0;32melse\u001b[0m\u001b[0;34m:\u001b[0m\u001b[0;34m\u001b[0m\u001b[0;34m\u001b[0m\u001b[0m\n\u001b[0;32m---> 53\u001b[0;31m             \u001b[0;32massert\u001b[0m \u001b[0mself\u001b[0m\u001b[0;34m.\u001b[0m\u001b[0mvalidate_grid\u001b[0m\u001b[0;34m(\u001b[0m\u001b[0mself\u001b[0m\u001b[0;34m.\u001b[0m\u001b[0mgrid\u001b[0m\u001b[0;34m)\u001b[0m\u001b[0;34m,\u001b[0m\u001b[0;31m \u001b[0m\u001b[0;31m\\\u001b[0m\u001b[0;34m\u001b[0m\u001b[0;34m\u001b[0m\u001b[0m\n\u001b[0m\u001b[1;32m     54\u001b[0m                 \u001b[0;34m\"Values of spin must be +1 or -1 .\"\u001b[0m\u001b[0;34m\u001b[0m\u001b[0;34m\u001b[0m\u001b[0m\n\u001b[1;32m     55\u001b[0m \u001b[0;34m\u001b[0m\u001b[0m\n",
      "\u001b[0;31mAssertionError\u001b[0m: Values of spin must be +1 or -1 ."
     ]
    }
   ],
   "source": [
    "try:\n",
    "    print(\"nope\")\n",
    "    l = Lattice(size = 3, grid=np.array(2))\n",
    "finally:\n",
    "    print(\"yep\")\n",
    "    l = Lattice(size = 10)\n",
    "\n"
   ]
  }
 ],
 "metadata": {
  "interpreter": {
   "hash": "ade069cdbd1b0d55d38c804bf6392f68cb11bd91eb0c14e114377310f3d2c1a1"
  },
  "kernelspec": {
   "display_name": "Python 3.10.0 64-bit ('.venv': venv)",
   "name": "python3"
  },
  "language_info": {
   "codemirror_mode": {
    "name": "ipython",
    "version": 3
   },
   "file_extension": ".py",
   "mimetype": "text/x-python",
   "name": "python",
   "nbconvert_exporter": "python",
   "pygments_lexer": "ipython3",
   "version": "3.10.0"
  },
  "orig_nbformat": 4
 },
 "nbformat": 4,
 "nbformat_minor": 2
}
